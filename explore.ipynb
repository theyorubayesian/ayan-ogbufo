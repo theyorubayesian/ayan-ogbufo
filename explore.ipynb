{
 "metadata": {
  "language_info": {
   "codemirror_mode": {
    "name": "ipython",
    "version": 3
   },
   "file_extension": ".py",
   "mimetype": "text/x-python",
   "name": "python",
   "nbconvert_exporter": "python",
   "pygments_lexer": "ipython3",
   "version": "3.8.5-final"
  },
  "orig_nbformat": 2,
  "kernelspec": {
   "name": "python3",
   "display_name": "Python 3.8.5 64-bit ('env')",
   "metadata": {
    "interpreter": {
     "hash": "276d5fe4da1db88ce2f3b3f09b6da7d82ab967e7f02084e033421da2ebaba0bf"
    }
   }
  }
 },
 "nbformat": 4,
 "nbformat_minor": 2,
 "cells": [
  {
   "source": [
    "# Imports"
   ],
   "cell_type": "markdown",
   "metadata": {}
  },
  {
   "cell_type": "code",
   "execution_count": 1,
   "metadata": {},
   "outputs": [],
   "source": [
    "import pandas as pd"
   ]
  },
  {
   "cell_type": "code",
   "execution_count": 2,
   "metadata": {},
   "outputs": [],
   "source": [
    "import sys\n",
    "sys.path.append(\"..\")\n",
    "\n",
    "from scripts.utils import get_data"
   ]
  },
  {
   "cell_type": "code",
   "execution_count": 3,
   "metadata": {},
   "outputs": [],
   "source": [
    "train_path = get_data(\"train\")\n",
    "test_path = get_data(\"test\")"
   ]
  },
  {
   "cell_type": "code",
   "execution_count": 4,
   "metadata": {},
   "outputs": [],
   "source": [
    "train = pd.read_csv(train_path)"
   ]
  },
  {
   "source": [
    "# Data"
   ],
   "cell_type": "markdown",
   "metadata": {}
  },
  {
   "cell_type": "code",
   "execution_count": 5,
   "metadata": {},
   "outputs": [
    {
     "output_type": "execute_result",
     "data": {
      "text/plain": [
       "(10054, 3)"
      ]
     },
     "metadata": {},
     "execution_count": 5
    }
   ],
   "source": [
    "train.shape"
   ]
  },
  {
   "cell_type": "code",
   "execution_count": 6,
   "metadata": {},
   "outputs": [
    {
     "output_type": "execute_result",
     "data": {
      "text/plain": [
       "            ID                                             Yoruba  \\\n",
       "0  ID_AAJEQLCz  A ṣètò Ìgbìmọ̀ Tó Ń Ṣètò Ìrànwọ́ Nígbà Àjálù l...   \n",
       "1  ID_AASNedba  Ìrọ̀lẹ́ May 22, 2018 ni wọ́n fàṣẹ ọba mú Arákù...   \n",
       "2  ID_AAeQrhMq                       Iléeṣẹ́ Creative Commons náà   \n",
       "3  ID_AAxlMgPP  Pè̩lú Egypt, Morocco àti Tunisia tí wó̩n ti lo...   \n",
       "4  ID_ABKuMKSx  Adájọ́ àgbà lórílẹ̀ èdè Náíjíríà (Attorney Gen...   \n",
       "\n",
       "                                             English  \n",
       "0  A Disaster Relief Committee was formed to orga...  \n",
       "1  Brother Solovyev was arrested on the evening o...  \n",
       "2                  Creative Commons the Organization  \n",
       "3  With Egypt, Morocco and Tunisia out of the Wor...  \n",
       "4  The Attorney General of the Federation, Justic...  "
      ],
      "text/html": "<div>\n<style scoped>\n    .dataframe tbody tr th:only-of-type {\n        vertical-align: middle;\n    }\n\n    .dataframe tbody tr th {\n        vertical-align: top;\n    }\n\n    .dataframe thead th {\n        text-align: right;\n    }\n</style>\n<table border=\"1\" class=\"dataframe\">\n  <thead>\n    <tr style=\"text-align: right;\">\n      <th></th>\n      <th>ID</th>\n      <th>Yoruba</th>\n      <th>English</th>\n    </tr>\n  </thead>\n  <tbody>\n    <tr>\n      <th>0</th>\n      <td>ID_AAJEQLCz</td>\n      <td>A ṣètò Ìgbìmọ̀ Tó Ń Ṣètò Ìrànwọ́ Nígbà Àjálù l...</td>\n      <td>A Disaster Relief Committee was formed to orga...</td>\n    </tr>\n    <tr>\n      <th>1</th>\n      <td>ID_AASNedba</td>\n      <td>Ìrọ̀lẹ́ May 22, 2018 ni wọ́n fàṣẹ ọba mú Arákù...</td>\n      <td>Brother Solovyev was arrested on the evening o...</td>\n    </tr>\n    <tr>\n      <th>2</th>\n      <td>ID_AAeQrhMq</td>\n      <td>Iléeṣẹ́ Creative Commons náà</td>\n      <td>Creative Commons the Organization</td>\n    </tr>\n    <tr>\n      <th>3</th>\n      <td>ID_AAxlMgPP</td>\n      <td>Pè̩lú Egypt, Morocco àti Tunisia tí wó̩n ti lo...</td>\n      <td>With Egypt, Morocco and Tunisia out of the Wor...</td>\n    </tr>\n    <tr>\n      <th>4</th>\n      <td>ID_ABKuMKSx</td>\n      <td>Adájọ́ àgbà lórílẹ̀ èdè Náíjíríà (Attorney Gen...</td>\n      <td>The Attorney General of the Federation, Justic...</td>\n    </tr>\n  </tbody>\n</table>\n</div>"
     },
     "metadata": {},
     "execution_count": 6
    }
   ],
   "source": [
    "train.head()"
   ]
  },
  {
   "cell_type": "code",
   "execution_count": 7,
   "metadata": {},
   "outputs": [
    {
     "output_type": "execute_result",
     "data": {
      "text/plain": [
       "               ID                              Yoruba  \\\n",
       "3618  ID_SWZanygs  (Ìtàkùrọ̀sọ lórí ẹ̀rọ ìbánisọ̀rọ̀)   \n",
       "5914  ID_eVmbGZKn  (Ìtàkùrọ̀sọ lórí ẹ̀rọ ìbánisọ̀rọ̀)   \n",
       "9876  ID_zKuIErAg           1.1 Ìtàn Creative Commons   \n",
       "8201  ID_qQGmWKwd           1.1 Ìtàn Creative Commons   \n",
       "6077  ID_fOhABEMP          1.2 Creative Commons Lónìí   \n",
       "...           ...                                 ...   \n",
       "6329  ID_glFHvDti                        Kí ni mo ṣe?   \n",
       "188   ID_AtiAvYha                        Kí ni mo ṣe?   \n",
       "4812  ID_YqrOKAzX                              Kí ni?   \n",
       "763   ID_DuDCjmGa                              Kí ni?   \n",
       "3304  ID_QpWTFPyw                              Kí ni?   \n",
       "\n",
       "                                English  \n",
       "3618               (Phone conversation)  \n",
       "5914               (Phone conversation)  \n",
       "9876  1.1 The Story of Creative Commons  \n",
       "8201  1.1 The Story of Creative Commons  \n",
       "6077         1.2 Creative Commons Today  \n",
       "...                                 ...  \n",
       "6329                  What have I done?  \n",
       "188                   What have I done?  \n",
       "4812                        What is it?  \n",
       "763                         What is it?  \n",
       "3304                        What is it?  \n",
       "\n",
       "[115 rows x 3 columns]"
      ],
      "text/html": "<div>\n<style scoped>\n    .dataframe tbody tr th:only-of-type {\n        vertical-align: middle;\n    }\n\n    .dataframe tbody tr th {\n        vertical-align: top;\n    }\n\n    .dataframe thead th {\n        text-align: right;\n    }\n</style>\n<table border=\"1\" class=\"dataframe\">\n  <thead>\n    <tr style=\"text-align: right;\">\n      <th></th>\n      <th>ID</th>\n      <th>Yoruba</th>\n      <th>English</th>\n    </tr>\n  </thead>\n  <tbody>\n    <tr>\n      <th>3618</th>\n      <td>ID_SWZanygs</td>\n      <td>(Ìtàkùrọ̀sọ lórí ẹ̀rọ ìbánisọ̀rọ̀)</td>\n      <td>(Phone conversation)</td>\n    </tr>\n    <tr>\n      <th>5914</th>\n      <td>ID_eVmbGZKn</td>\n      <td>(Ìtàkùrọ̀sọ lórí ẹ̀rọ ìbánisọ̀rọ̀)</td>\n      <td>(Phone conversation)</td>\n    </tr>\n    <tr>\n      <th>9876</th>\n      <td>ID_zKuIErAg</td>\n      <td>1.1 Ìtàn Creative Commons</td>\n      <td>1.1 The Story of Creative Commons</td>\n    </tr>\n    <tr>\n      <th>8201</th>\n      <td>ID_qQGmWKwd</td>\n      <td>1.1 Ìtàn Creative Commons</td>\n      <td>1.1 The Story of Creative Commons</td>\n    </tr>\n    <tr>\n      <th>6077</th>\n      <td>ID_fOhABEMP</td>\n      <td>1.2 Creative Commons Lónìí</td>\n      <td>1.2 Creative Commons Today</td>\n    </tr>\n    <tr>\n      <th>...</th>\n      <td>...</td>\n      <td>...</td>\n      <td>...</td>\n    </tr>\n    <tr>\n      <th>6329</th>\n      <td>ID_glFHvDti</td>\n      <td>Kí ni mo ṣe?</td>\n      <td>What have I done?</td>\n    </tr>\n    <tr>\n      <th>188</th>\n      <td>ID_AtiAvYha</td>\n      <td>Kí ni mo ṣe?</td>\n      <td>What have I done?</td>\n    </tr>\n    <tr>\n      <th>4812</th>\n      <td>ID_YqrOKAzX</td>\n      <td>Kí ni?</td>\n      <td>What is it?</td>\n    </tr>\n    <tr>\n      <th>763</th>\n      <td>ID_DuDCjmGa</td>\n      <td>Kí ni?</td>\n      <td>What is it?</td>\n    </tr>\n    <tr>\n      <th>3304</th>\n      <td>ID_QpWTFPyw</td>\n      <td>Kí ni?</td>\n      <td>What is it?</td>\n    </tr>\n  </tbody>\n</table>\n<p>115 rows × 3 columns</p>\n</div>"
     },
     "metadata": {},
     "execution_count": 7
    }
   ],
   "source": [
    "# complete duplicates \n",
    "train[train.duplicated(subset=[\"Yoruba\", \"English\"], keep=False)].sort_values(by=\"English\")    "
   ]
  },
  {
   "cell_type": "code",
   "execution_count": 8,
   "metadata": {},
   "outputs": [
    {
     "output_type": "execute_result",
     "data": {
      "text/plain": [
       "(9990, 3)"
      ]
     },
     "metadata": {},
     "execution_count": 8
    }
   ],
   "source": [
    "train.drop_duplicates(subset=[\"Yoruba\", \"English\"], inplace=True)\n",
    "train.shape"
   ]
  },
  {
   "cell_type": "code",
   "execution_count": 9,
   "metadata": {},
   "outputs": [],
   "source": [
    "# TODO: Examine in variable explorer. May inform decision to drop\n",
    "english_duplicates = train[train.duplicated(subset=\"English\", keep=False)].sort_values(by=\"English\")\n",
    "yoruba_duplicates = train[train.duplicated(subset=\"Yoruba\", keep=False)].sort_values(by=\"Yoruba\")     "
   ]
  },
  {
   "cell_type": "code",
   "execution_count": null,
   "metadata": {},
   "outputs": [],
   "source": []
  }
 ]
}